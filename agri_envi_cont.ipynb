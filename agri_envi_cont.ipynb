{
 "cells": [
  {
   "cell_type": "markdown",
   "metadata": {},
   "source": [
    "définition des classes"
   ]
  },
  {
   "cell_type": "code",
   "execution_count": 4,
   "metadata": {},
   "outputs": [],
   "source": [
    "import numpy as np\n",
    "import math\n",
    "from scipy.integrate import odeint\n",
    "import matplotlib.pyplot as plt\n",
    "\n",
    "class plant:\n",
    "    objs = []\n",
    "    \n",
    "    def __init__(self, ID_nb, species):\n",
    "        plant.objs.append(self)\n",
    "        self.ID_nb = ID_nb\n",
    "        self.species = species\n",
    "        self.Dm = 0.001 #[g]\n",
    "        self.Fm = 0 #[g]\n",
    "    \n",
    "   \n",
    "    def dDmdt (self,Dm, t, T, CO2_air, PAR): \n",
    "        # #définition des constantes et des paramètres       \n",
    "        c_alpha = 0.68 #[-]\n",
    "        c_bheta = 0.8 #[-]\n",
    "        c_bnd = 0.004 #[-]\n",
    "        c_car1 = -1.32 * 10**(-5) #[m/s.°C²]\n",
    "        c_car2 = 5.94*10**(-4)#[m/s.°C]\n",
    "        c_car3 =-2.64*10**(-3)#[m/s]\n",
    "        c_eps = 17*10**(-9)#[kg/J]\n",
    "        c_T = 7.32 * 10**(-5)#[kg/m³]\n",
    "        c_k = 0.9 #[-]\n",
    "        c_lar_d = 62.5#[m²/kg]\n",
    "        c_Q10_T = 2 #[-]\n",
    "        c_Q10_resp = 2 #[-]\n",
    "        c_resp_s = 3.47*10**(-7)#[s-1]\n",
    "        c_resp_r = 1.16*10**(-7)#[s-1]\n",
    "        c_stm = 0.007 #[m/s]\n",
    "        c_t = 0.07 #[-]\n",
    "        \n",
    "        #calcul de la résistance de la carboxylation [m/s]\n",
    "        sigma_car = c_car1*T**(2)+c_car2*T+c_car3\n",
    "        #calcul de la conductance lumineuse de la canopée [m/s]\n",
    "        sigma_co2 = ((1/c_bnd)+(1/c_stm)+(1/sigma_car))**(-1)      \n",
    "        #calcul du point de compensation du CO2 [kg/m³]\n",
    "        Gam = c_T*c_Q10_T**((T-20)/10)       \n",
    "        #Calcul du light use efficiency de la photosynthèse [kg/J]\n",
    "        eps = c_eps*((CO2_air-Gam)/(CO2_air+2*Gam))\n",
    "        #calcul de la photosynthèse maximale [kg/m².s]\n",
    "        P_max = (eps*PAR*sigma_co2*(CO2_air-Gam))/(eps*PAR+sigma_co2*(CO2_air-Gam))\n",
    "        #calcul de la respiration [kg/m².s]\n",
    "        R = (c_resp_s *(1-c_t)+ c_resp_r*c_t)* Dm*c_Q10_resp**(0.1*T - 2.5)\n",
    "        #calcul du taux d'assimilation photosynthètique [kg/m².s]\n",
    "        P = P_max *(1-np.exp(-c_k*c_lar_d*(1-c_t)*Dm))\n",
    "        #calcul de la dérivée temporelle de la masse sèche [kg/s]\n",
    "        dDmdt = c_bheta *(c_alpha * P - R)/18 # 18 est le nombre de plantes par m²\n",
    "        return dDmdt\n",
    "    \n",
    "    def fresh_matter (self,Dm):\n",
    "        #calcul de la masse de matière fraiche d'une laitue [kg/m²] en fonction de sa matière sèche    \n",
    "        c_fw = 22.5#[-]\n",
    "        c_t = 0.07 #[-]\n",
    "        Fm = c_fw*Dm*(1-c_t)\n",
    "        return Fm\n",
    "    \n",
    "    \n",
    "    def dry_matter (self,model, Dm_0, t0, tf, dt, T, CO2_air, PAR):\n",
    "        t = np.arange (t0, tf, dt)\n",
    "        Dm = odeint (model, Dm_0, t, args= (T, CO2_air, PAR, ) )\n",
    "        return Dm, t"
   ]
  },
  {
   "cell_type": "markdown",
   "metadata": {},
   "source": [
    "test du modèle de plantes"
   ]
  },
  {
   "cell_type": "code",
   "execution_count": 7,
   "metadata": {},
   "outputs": [
    {
     "data": {
      "image/png": "[encoded data removed]",
      "text/plain": [
       "<Figure size 432x288 with 1 Axes>"
      ]
     },
     "metadata": {
      "needs_background": "light"
     },
     "output_type": "display_data"
    }
   ],
   "source": [
    "plant1 = plant(1, 'lettuce')\n",
    "\n",
    "T = 23\n",
    "CO2_air = 5*10**(-2)\n",
    "PAR = 100\n",
    "Dm_0 =0.00001\n",
    "t0= 0\n",
    "tf = 24*60*60*60\n",
    "dt = 3600\n",
    "\n",
    "# solve ODE\n",
    "[y,t] = plant1.dry_matter (plant1.dDmdt ,Dm_0, t0, tf, dt, T, CO2_air, PAR)\n",
    "\n",
    "# plot results\n",
    "plt.plot(t/(24*60*60),y)\n",
    "plt.xlabel('temps (jours)')\n",
    "plt.ylabel('matière sèche (kg)')\n",
    "plt.show()"
   ]
  },
  {
   "cell_type": "code",
   "execution_count": null,
   "metadata": {},
   "outputs": [],
   "source": []
  },
  {
   "cell_type": "code",
   "execution_count": null,
   "metadata": {},
   "outputs": [],
   "source": []
  },
  {
   "cell_type": "code",
   "execution_count": null,
   "metadata": {},
   "outputs": [],
   "source": []
  },
  {
   "cell_type": "code",
   "execution_count": null,
   "metadata": {},
   "outputs": [],
   "source": []
  }
 ],
 "metadata": {
  "kernelspec": {
   "display_name": "Python 3",
   "language": "python",
   "name": "python3"
  },
  "language_info": {
   "codemirror_mode": {
    "name": "ipython",
    "version": 3
   },
   "file_extension": ".py",
   "mimetype": "text/x-python",
   "name": "python",
   "nbconvert_exporter": "python",
   "pygments_lexer": "ipython3",
   "version": "3.7.9"
  }
 },
 "nbformat": 4,
 "nbformat_minor": 4
}
