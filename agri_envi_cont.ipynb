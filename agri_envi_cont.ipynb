{
 "cells": [
  {
   "cell_type": "markdown",
   "metadata": {},
   "source": [
    "Packages à installer"
   ]
  },
  {
   "cell_type": "code",
   "execution_count": 1,
   "metadata": {},
   "outputs": [],
   "source": [
    "import numpy as np\n",
    "from scipy.integrate import odeint\n",
    "from scipy.integrate import romberg\n",
    "import pandas as pd\n",
    "from scipy.interpolate import interp1d\n",
    "import matplotlib.pyplot as plt"
   ]
  },
  {
   "cell_type": "markdown",
   "metadata": {},
   "source": [
    "Définition des classes"
   ]
  },
  {
   "cell_type": "code",
   "execution_count": 2,
   "metadata": {},
   "outputs": [],
   "source": [
    "class Plant: \n",
    "    objs =[]\n",
    "    \n",
    "    def __init__(self, ID_nb, ID_plant_species, ID_chambre_culture):\n",
    "        Plant.objs.append(self)\n",
    "        self.ID_nb = ID_nb\n",
    "        self.ID_plant_species = ID_plant_species\n",
    "        self.ID_chambre_culture = ID_chambre_culture\n",
    "        self.Fm = []\n",
    "        self.Dm = []\n",
    "        self.Cout = 0\n",
    "    \n",
    "    def Cost (self, prix, dt, conso_plante_unitaire):\n",
    "        self.Cout += (prix/100)*(conso_plante_unitaire/1000)*(dt/60)\n",
    "    \n",
    "    @classmethod\n",
    "    def link_objects (cls):\n",
    "        for plant in cls.objs:\n",
    "            for plant_species in Plant_species.objs:\n",
    "                if plant.ID_plant_species == plant_species.ID_nb:\n",
    "                    plant.plant_species = plant_species\n",
    "                    plant.Dm.append(plant_species.Dm_0)\n",
    "                    plant.Fm.append(plant_species.Fm_0)\n",
    "            for chambre_culture in Chambre_culture.objs:\n",
    "                if plant.ID_chambre_culture == chambre_culture.ID_nb:\n",
    "                    plant.chambre_culture = chambre_culture\n",
    "    \n",
    "    @classmethod\n",
    "    def resol_step (cls,prix_elec, pas_de_temps):\n",
    "        for plant in Plant.objs:\n",
    "            plant.Cost(prix_elec, pas_de_temps, plant.chambre_culture.conso_plante_unitaire)\n",
    "            plant.Dm.append(plant.plant_species.dry_matter(plant.plant_species.dDmdt, plant.Dm[-1], pas_de_temps, plant.chambre_culture.PAR, plant.chambre_culture.temperature, plant.chambre_culture.CO2_air))\n",
    "            plant.Fm.append(plant.plant_species.fresh_matter(plant.Dm[-1]))\n",
    "    \n",
    "    @classmethod\n",
    "    def results (cls):\n",
    "        Dm=[]\n",
    "        Fm=[]\n",
    "        Cout=[]\n",
    "        Prix_kg=[]\n",
    "        for plant in Plant.objs:\n",
    "            Dm.append(plant.Dm[-1])\n",
    "            Fm.append(plant.Fm[-1])\n",
    "            Cout.append(plant.Cout)\n",
    "            Prix_kg.append(plant.Cout/plant.Fm[-1])\n",
    "        return Dm,Fm,Cout,Prix_kg\n",
    "    \n",
    "class Plant_species:\n",
    "    objs = []\n",
    "    \n",
    "    def __init__(self, ID_nb, ID_chambre_culture, species, Dm_0, dDmdt, dry_matter, fresh_matter):\n",
    "        Plant_species.objs.append(self)\n",
    "        self.ID_nb = ID_nb\n",
    "        self.species = species\n",
    "        self.Dm_0 = Dm_0 #[g]\n",
    "        self.Fm_0 = fresh_matter(Dm_0)\n",
    "        self.dDmdt = dDmdt\n",
    "        self.dry_matter = dry_matter\n",
    "        self.fresh_matter = fresh_matter\n",
    "    \n",
    "class Chambre_culture:\n",
    "    objs=[]\n",
    "    \n",
    "    def __init__(self, ID_nb, ID_LED, ID_alim, ID_scenario, surface, nb_LED, nb_plantes, CO2_air, temperature):\n",
    "        Chambre_culture.objs.append(self)\n",
    "        self.ID_nb = ID_nb\n",
    "        self.ID_LED = ID_LED\n",
    "        self.ID_alim =ID_alim\n",
    "        self.ID_scenario =ID_scenario\n",
    "        self.surface = surface #[m²]\n",
    "        self.nb_LED = nb_LED\n",
    "        self.nb_plantes = nb_plantes\n",
    "        self.CO2_air = CO2_air\n",
    "        self.temperature = temperature\n",
    "        self.switch_LED = False\n",
    "    \n",
    "    @classmethod\n",
    "    def link_objects (cls):\n",
    "        for chambre_culture in cls.objs :\n",
    "            for scenario in Scenario.objs :\n",
    "                if chambre_culture.ID_scenario == scenario.ID_nb:\n",
    "                    chambre_culture.scenario = scenario\n",
    "            for led in LED.objs :\n",
    "                if chambre_culture.ID_LED == led.ID_nb:\n",
    "                    chambre_culture.LED = led\n",
    "            for alim in Alim.objs :\n",
    "                if chambre_culture.ID_alim == alim.ID_nb:\n",
    "                    chambre_culture.alim = alim        \n",
    "                    \n",
    "    @classmethod \n",
    "    def resol_step  (cls, PPFD_voulu, heure):\n",
    "        for room in cls.objs :\n",
    "            if (heure > room.scenario.heure_debut and heure < room.scenario.heure_debut + room.scenario.photoperiode) or (room.scenario.heure_debut + room.scenario.photoperiode > 24 and heure < (room.scenario.heure_debut +room.scenario.photoperiode-24)):\n",
    "                room.switch = True\n",
    "            else :\n",
    "                room.switch = False\n",
    "            flux_led = (PPFD_voulu*room.surface)/(room.LED.umol_nom * room.nb_LED)\n",
    "            I_voulu = room.LED.I_flux(flux_led)\n",
    "            room.conso= (room.nb_LED * room.LED.P_I(I_voulu)*room.switch)/room.alim.rendement\n",
    "            room.PAR= room.LED.PAR_nom * room.nb_LED * flux_led * room.switch \n",
    "            room.conso_plante_unitaire =  room.conso / room.nb_plantes\n",
    "        \n",
    "class Scenario: \n",
    "    objs=[]\n",
    "    \n",
    "    def __init__(self,ID_nb, heure_debut, photoperiode):\n",
    "        Scenario.objs.append(self)\n",
    "        self.ID_nb =ID_nb\n",
    "        self.heure_debut=heure_debut #heure d'activation de l'éclairage \n",
    "        self.photoperiode= photoperiode #photopériode en heure\n",
    "    \n",
    "class LED:\n",
    "    objs=[]\n",
    "    \n",
    "    def __init__(self, ID_nb, umol_nom, PAR_nom, I_flux, P_I):\n",
    "        LED.objs.append(self)\n",
    "        self.ID_nb = ID_nb\n",
    "        self.umol_nom = umol_nom \n",
    "        self.PAR_nom = PAR_nom\n",
    "        self.I_flux = I_flux \n",
    "        self.P_I = P_I\n",
    "\n",
    "class Alim:\n",
    "    objs=[]\n",
    "    \n",
    "    def __init__(self, ID_nb, rendement):\n",
    "        Alim.objs.append(self)\n",
    "        self.ID_nb = ID_nb\n",
    "        self.rendement = rendement"
   ]
  },
  {
   "cell_type": "markdown",
   "metadata": {},
   "source": [
    "Défintion d'une fonction calculant les paramètres des LED"
   ]
  },
  {
   "cell_type": "code",
   "execution_count": 3,
   "metadata": {},
   "outputs": [],
   "source": [
    "def calc_LED ():\n",
    "    \n",
    "    #importation de la courbe spectrale du nombre relatif de photons émis en fonctions de la longueur d'onde\n",
    "    #création d'une courbe d'interpolation \n",
    "    #calcul du nombre de photons émis en intégrant la courbe d'émission spectrale \n",
    "    #nombre de photons obtenus = nombre de photons émis par un LED ayant un pic d'émissions d'1 µmol à 630nm\n",
    "    data_spec_phot_flux = pd.read_csv('LED/spectral photon flux.csv',delimiter = ';', header = 0, decimal = ',')\n",
    "    spec_phot_flux = interp1d (data_spec_phot_flux.iloc[:,0], data_spec_phot_flux.iloc[:,2], kind = 'cubic')\n",
    "    I= romberg(spec_phot_flux,400,780, divmax = 20)\n",
    "    \n",
    "    #calcul du nombre de photons émis par le LED pour un courant de 700mA \n",
    "    nb_lumen_umol = 52.56 #[lumen/umol photon/s] intensité lumineuse d'1 µmol de photons\n",
    "    intensite_lumineuse_led = 192 #[lumen] intensité lumineuse à 700mA\n",
    "    umol_led = intensite_lumineuse_led/nb_lumen_umol #[µmol de photon/s] quantité de photons émis par seconde\n",
    "    \n",
    "    #Calcul du nombre de photons émis par 1 LED à 700mA    \n",
    "    f = umol_led/I #rapport entre la quantité émise par l'ampoule LED considérée et celle émise par l'ampoule standard\n",
    "    Na = 6.022 * 10**(23)#[entité par mol] nombre d'AVOGADRO\n",
    "    phot_emis= data_spec_phot_flux.iloc [:,2]*f*Na*10**(-6) #courbe donnant le nombre de photons émis par la LED en fonction de la longeur d'onde\n",
    "    \n",
    "    #calcul de l'énergie d'irradiance de chaque photons émis\n",
    "    h = 6.63*10**(-34) #constante de Planck [J.s]\n",
    "    c = 3*10**(8) #vitesse de la lumière [m/s]\n",
    "    \n",
    "    #création d'une courbe donnant l'énergie d'irradiance émise par la LED en fonction de la longueur d'onde\n",
    "    en_emis=[]\n",
    "    for i in np.arange (len(data_spec_phot_flux.iloc[:,0])):\n",
    "        en_emis.append ((phot_emis [i]*h*c)/(data_spec_phot_flux.iloc[i,0]*10**(-9)))\n",
    "    en_emis_lambda = interp1d (data_spec_phot_flux.iloc[:,0],en_emis,kind ='cubic')\n",
    "    \n",
    "    #calcul du rayonnement photosynthétiquement actif [W] en intégrant cette courb entre 400 et 700nm  \n",
    "    PAR = romberg (en_emis_lambda,400,700, divmax = 20)\n",
    "    \n",
    "    #on renvoie  le nombre de umol émis par seconde et le PAR émis par seconde\n",
    "    return umol_led,PAR"
   ]
  },
  {
   "cell_type": "markdown",
   "metadata": {},
   "source": [
    "Modèle de croissance et caractéristiques de l'espèce végétale modélisée (ici la laitue)"
   ]
  },
  {
   "cell_type": "code",
   "execution_count": 4,
   "metadata": {},
   "outputs": [],
   "source": [
    "lettuce_Dm_0 = 1*10**(-3)# masse d'une graine de laitue [g]\n",
    "\n",
    "def lettuce_dDmdt (Dm, t, T, CO2_air, PAR): \n",
    "    #équation différentielle exprimant la dérivée temporelle de la masse sèche d'une laitue en fonction des conditions extérieures\n",
    "    #définition des constantes et des paramètres\n",
    "    c_alpha = 0.68 #[-]\n",
    "    c_bheta = 0.8 #[-]\n",
    "    c_bnd = 0.004 #[-]\n",
    "    c_car1 = -1.32 * 10**(-5) #[m/s.°C²]\n",
    "    c_car2 = 5.94*10**(-4)#[m/s.°C]\n",
    "    c_car3 =-2.64*10**(-3)#[m/s]\n",
    "    c_eps = 17*10**(-9)#[kg/J]\n",
    "    c_T = 7.32 * 10**(-5)#[kg/m³]\n",
    "    c_k = 0.9 #[-]\n",
    "    c_lar_d = 62.5#[m²/kg]\n",
    "    c_Q10_T = 2 #[-]\n",
    "    c_Q10_resp = 2 #[-]\n",
    "    c_resp_s = 3.47*10**(-7)#[s-1]\n",
    "    c_resp_r = 1.16*10**(-7)#[s-1]\n",
    "    c_stm = 0.007 #[m/s]\n",
    "    c_t = 0.07 #[-]\n",
    "    #calcul de la résistance de la carboxylation [m/s]\n",
    "    sigma_car = c_car1*T**(2)+c_car2*T+c_car3\n",
    "    #calcul de la conductance lumineuse de la canopée [m/s]\n",
    "    sigma_co2 = ((1/c_bnd)+(1/c_stm)+(1/sigma_car))**(-1)      \n",
    "    #calcul du point de compensation du CO2 [kg/m³]\n",
    "    Gam = c_T*c_Q10_T**((T-20)/10)\n",
    "    #Calcul du light use efficiency de la photosynthèse [kg/J]\n",
    "    eps = c_eps*((CO2_air-Gam)/(CO2_air+2*Gam))\n",
    "    #calcul du taux maximal d'assimilation photosynthétique [kg/m².s]\n",
    "    P_max = (eps*PAR*sigma_co2*(CO2_air-Gam))/(eps*PAR+sigma_co2*(CO2_air-Gam))\n",
    "    #calcul du taux de respiration [kg/m².s]\n",
    "    R = (c_resp_s *(1-c_t)+ c_resp_r*c_t)* Dm*c_Q10_resp**(0.1*T - 2.5)\n",
    "    #calcul du taux d'assimilation photosynthétique [kg/m².s]\n",
    "    P = P_max *(1-np.exp(-c_k*c_lar_d*(1-c_t)*Dm))\n",
    "    #calcul de la dérivée de la masse sèche d'une plante au cours du temps [kg/s]\n",
    "    dDmdt = c_bheta *(c_alpha * P - R)/18 #18 est le nombre de plante par m² implémenté dans le modèle utilisé\n",
    "    return dDmdt\n",
    "    \n",
    "def lettuce_fresh_matter (Dm):\n",
    "    #calcul de la masse de matière fraiche d'une laitue [kg/m²] en fonction de sa matière sèche    \n",
    "    c_fw = 22.5#[-]\n",
    "    c_t = 0.07 #[-]\n",
    "    Fm = c_fw*Dm*(1-c_t)\n",
    "    return Fm\n",
    "    \n",
    "def lettuce_dry_matter (dDmdt, Dm_0, dt, PAR, T, CO2_air):\n",
    "    #calcul de la masse de matière sèche finale d'une laitue ayant une masse sèche initiale Dm_0\n",
    "    #soumise à une température T,un rayonnement photosynthétiquement actif PAR et une concentration de CO2 CO2_air\n",
    "    #sur un intervalle de temps dt \n",
    "    tspan=[0,dt*60]\n",
    "    Dm_cur = odeint (dDmdt, Dm_0, tspan, args= ( T, CO2_air, PAR,) )\n",
    "    Dm = Dm_cur[-1]\n",
    "    return Dm"
   ]
  },
  {
   "cell_type": "markdown",
   "metadata": {},
   "source": [
    "Défintion des paramètres des objets constituants le système"
   ]
  },
  {
   "cell_type": "code",
   "execution_count": 5,
   "metadata": {},
   "outputs": [],
   "source": [
    "#paramètres chambre de culture \n",
    "temperature = 23 #[°C]\n",
    "CO2_air = 5*10**(-2) #[kg/m³]\n",
    "nb_led_room = 65 #nombre de LED dans une chambre de culture\n",
    "nb_plante_room = 20 # nombre de plante dans la chambre de culture\n",
    "surface = 1 #m² \n",
    "\n",
    "#paramètres alimentation \n",
    "rendement_alim = 0.85\n",
    "\n",
    "#paramètres scenario\n",
    "heure_debut = 20\n",
    "photoperiode = 16 #h \n",
    "\n",
    "#paramètres LED\n",
    "[umol_nom_OSRAM_GW_CSSRM1, PAR_nom_OSRAM_GW_CSSRM1] = calc_LED()\n",
    "csv_courbe_flux_relatif_vs_courant = 'LED/flux relatif vs courant.csv'\n",
    "csv_courant_vs_tension = 'LED/courant tension.csv'\n",
    "dat_flux_I = pd.read_csv(csv_courbe_flux_relatif_vs_courant,delimiter = ';', header = 0, decimal = ',') \n",
    "OSRAM_GW_CSSRM1_I_flux = interp1d (dat_flux_I.iloc[:,1], dat_flux_I.iloc[:,0], kind = 'cubic')\n",
    "dat_I_V_P = pd.read_csv(csv_courant_vs_tension,delimiter = ';', header = 0, decimal = ',') \n",
    "OSRAM_GW_CSSRM1_P_I = interp1d (dat_I_V_P.iloc[:,1], dat_I_V_P.iloc[:,2], kind = 'cubic')\n"
   ]
  },
  {
   "cell_type": "markdown",
   "metadata": {},
   "source": [
    "Paramètres de la simulation désirée"
   ]
  },
  {
   "cell_type": "code",
   "execution_count": 6,
   "metadata": {},
   "outputs": [],
   "source": [
    "nb_jour = 50\n",
    "pas_de_temps = 15 #minutes\n",
    "type_simulation = 'simple'\n",
    "price_adaptation = True\n",
    "periode_regulation = 'journée'\n",
    "PPFD_nom = 300 #µmol photons/m².s\n",
    "PPFD_max = 500\n",
    "PPFD_min = 100"
   ]
  },
  {
   "cell_type": "markdown",
   "metadata": {},
   "source": [
    "Définition d'une fonction ajustant la quantité de photons envoyée aux plantes au prix de l'électricité "
   ]
  },
  {
   "cell_type": "code",
   "execution_count": 7,
   "metadata": {},
   "outputs": [],
   "source": [
    "if price_adaptation == True:\n",
    "    def ajust_conso(prix ,prix_max , prix_min, PPFD_max, PPFD_min):\n",
    "        m = (PPFD_min - PPFD_max)/(prix_max-prix_min)\n",
    "        p = PPFD_max-m*prix_min\n",
    "        PPFD= m*prix + p\n",
    "        return PPFD\n",
    "    \n",
    "elif price_adaptation == False:\n",
    "    def ajust_conso(prix ,prix_max , prix_min, PPFD_max, PPFD_min):\n",
    "        PPFD = PPFD_nom\n",
    "        return PPFD"
   ]
  },
  {
   "cell_type": "markdown",
   "metadata": {},
   "source": [
    "Création des objets du système sur base de la simulation voulue et des paramètres sélectionnés pour les objets du système"
   ]
  },
  {
   "cell_type": "code",
   "execution_count": 8,
   "metadata": {},
   "outputs": [],
   "source": [
    "if type_simulation == 'simple':\n",
    "    lettuce_1= Plant(1,1,1)\n",
    "    lettuce =  Plant_species(1,1,'lettuce', lettuce_Dm_0, lettuce_dDmdt, lettuce_dry_matter, lettuce_fresh_matter)\n",
    "    chambre_culture_1= Chambre_culture(1,1,1,1, surface, nb_led_room, nb_plante_room, CO2_air, temperature)\n",
    "    LED_1 =LED(1, umol_nom_OSRAM_GW_CSSRM1, PAR_nom_OSRAM_GW_CSSRM1, OSRAM_GW_CSSRM1_I_flux, OSRAM_GW_CSSRM1_P_I)\n",
    "    alim_1 = Alim(1,rendement_alim)\n",
    "    scenario_1 =Scenario (1,heure_debut,photoperiode)\n",
    "    \n",
    "elif type_simulation == 'effet heure de debut':\n",
    "    for i in np.arange (24):\n",
    "        exec (\"lettuce_\"+str(i)+\"= Plant(\"+str(i)+\",1,\"+str(i)+\")\")\n",
    "        exec (\"chambre_culture_\"+str(i)+\"= Chambre_culture(\"+str(i)+\",1,1,\"+str(i)+\", surface, nb_led_room, nb_plante_room, CO2_air, temperature)\")\n",
    "        exec (\"scenario_\"+str(i)+\" =Scenario (\"+str(i)+\",\"+str(i)+\",photoperiode)\")\n",
    "    \n",
    "    lettuce =  Plant_species(1,1,'lettuce', lettuce_Dm_0, lettuce_dDmdt, lettuce_dry_matter, lettuce_fresh_matter)\n",
    "    LED_1 =LED(1, umol_nom_OSRAM_GW_CSSRM1, PAR_nom_OSRAM_GW_CSSRM1, OSRAM_GW_CSSRM1_I_flux, OSRAM_GW_CSSRM1_P_I)\n",
    "    alim_1 = Alim(1,rendement_alim)\n",
    "\n",
    "elif type_simulation =='effet température':\n",
    "    for i in np.arange (29):\n",
    "        exec (\"lettuce_\"+str(i)+\"= Plant(\"+str(i)+\",1,\"+str(i)+\")\")\n",
    "        exec (\"chambre_culture_\"+str(i)+\"= Chambre_culture(\"+str(i)+\",1,1,1, surface, nb_led_room, nb_plante_room, CO2_air, 7 +\"+str(i)+\")\")\n",
    "    \n",
    "    lettuce =  Plant_species(1,1,'lettuce', lettuce_Dm_0, lettuce_dDmdt, lettuce_dry_matter, lettuce_fresh_matter)\n",
    "    LED_1 =LED(1, umol_nom_OSRAM_GW_CSSRM1, PAR_nom_OSRAM_GW_CSSRM1, OSRAM_GW_CSSRM1_I_flux, OSRAM_GW_CSSRM1_P_I)\n",
    "    alim_1 = Alim(1,rendement_alim)\n",
    "    scenario_1 =Scenario (1,heure_debut,photoperiode)\n",
    "\n",
    "elif type_simulation == 'effet photopériode':\n",
    "    for i in np.arange (24):\n",
    "        exec (\"lettuce_\"+str(i)+\"= Plant(\"+str(i)+\",1,\"+str(i)+\")\")\n",
    "        exec (\"chambre_culture_\"+str(i)+\"= Chambre_culture(\"+str(i)+\",1,1,\"+str(i)+\", surface, nb_led_room, nb_plante_room, CO2_air, temperature)\")\n",
    "        exec (\"scenario_\"+str(i)+\" =Scenario (\"+str(i)+\", heure_debut,\"+str(i)+\")\")\n",
    "    \n",
    "    lettuce =  Plant_species(1,1,'lettuce', lettuce_Dm_0, lettuce_dDmdt, lettuce_dry_matter, lettuce_fresh_matter)\n",
    "    LED_1 =LED(1, umol_nom_OSRAM_GW_CSSRM1, PAR_nom_OSRAM_GW_CSSRM1, OSRAM_GW_CSSRM1_I_flux, OSRAM_GW_CSSRM1_P_I)\n",
    "    alim_1 = Alim(1,rendement_alim)\n",
    "\n",
    "Chambre_culture.link_objects()\n",
    "Plant.link_objects()"
   ]
  },
  {
   "cell_type": "markdown",
   "metadata": {},
   "source": [
    "Importation des données de prix de l'électricité"
   ]
  },
  {
   "cell_type": "code",
   "execution_count": 9,
   "metadata": {},
   "outputs": [],
   "source": [
    "prix = pd.read_csv('prix_elec/DA prices BE NL 2018-2019.csv', delimiter = ';' ,header = 0)\n",
    "prix.iloc[:,0] =pd.to_datetime(prix.iloc[:,0])"
   ]
  },
  {
   "cell_type": "markdown",
   "metadata": {},
   "source": [
    "Initialisation de la simulation"
   ]
  },
  {
   "cell_type": "code",
   "execution_count": 10,
   "metadata": {},
   "outputs": [],
   "source": [
    "if periode_regulation =='journée':\n",
    "    n = (24*4)-1\n",
    "elif periode_regulation =='semaine':\n",
    "    n = (7*24*4)-1\n",
    "elif periode_regulation =='mois':\n",
    "    n = (30*24*4)-1\n",
    "prix_last_day = prix.iloc[0:n,5]\n",
    "prix_min = min(prix_last_day)\n",
    "prix_max = max(prix_last_day)\n",
    "first_in = 0"
   ]
  },
  {
   "cell_type": "markdown",
   "metadata": {},
   "source": [
    "Simulation de la croissance et du cout des plantes sur la période considérée"
   ]
  },
  {
   "cell_type": "code",
   "execution_count": 11,
   "metadata": {},
   "outputs": [],
   "source": [
    "for j in np.arange(nb_jour*24*4):\n",
    "    prix_cour = prix.iat[j,5]\n",
    "    prix_last_day [first_in] = prix_cour\n",
    "    prix_min = min(prix_last_day)\n",
    "    prix_max = max(prix_last_day)   \n",
    "    if first_in == len(prix_last_day):\n",
    "        first_in = 0\n",
    "    else:\n",
    "        first_in +=1        \n",
    "    PPFD_voulu = ajust_conso(prix_cour ,prix_max , prix_min, PPFD_max, PPFD_min)\n",
    "    heure = prix.iat[j,0].hour\n",
    "\n",
    "    Chambre_culture.resol_step(PPFD_voulu, heure)\n",
    "    Plant.resol_step(prix_cour,pas_de_temps)\n",
    "\n",
    "[Dm,Fm,Cout,Prix_kg]=Plant.results()"
   ]
  },
  {
   "cell_type": "markdown",
   "metadata": {},
   "source": [
    "Représentation graphique des résultats obtenus "
   ]
  },
  {
   "cell_type": "code",
   "execution_count": 12,
   "metadata": {},
   "outputs": [
    {
     "data": {
      "image/png": "[encoded data removed]",
      "text/plain": [
       "<Figure size 432x288 with 1 Axes>"
      ]
     },
     "metadata": {
      "needs_background": "light"
     },
     "output_type": "display_data"
    },
    {
     "data": {
      "image/png": "[encoded data removed]",
      "text/plain": [
       "<Figure size 432x288 with 1 Axes>"
      ]
     },
     "metadata": {
      "needs_background": "light"
     },
     "output_type": "display_data"
    },
    {
     "data": {
      "image/png": "[encoded data removed]",
      "text/plain": [
       "<Figure size 432x288 with 1 Axes>"
      ]
     },
     "metadata": {
      "needs_background": "light"
     },
     "output_type": "display_data"
    }
   ],
   "source": [
    "if type_simulation == 'simple':\n",
    "    plt.plot(np.arange(len(lettuce_1.Dm[:]))/(24*4),lettuce_1.Dm[:])\n",
    "    plt.xlabel('Temps (jours)')\n",
    "    plt.ylabel('Dry matter (kg)')\n",
    "    plt.title ('Evolution de la masse sèche des laitues')\n",
    "    plt.show()\n",
    "    plt.plot(np.arange(len(lettuce_1.Dm[:]))/(24*4),lettuce_1.Fm[:])\n",
    "    plt.xlabel('Temps (jours)')\n",
    "    plt.ylabel('Fresh matter (kg)')\n",
    "    plt.title ('Evolution de la masse fraiche des laitues')\n",
    "    plt.show()\n",
    "    plt.plot(np.arange(len(lettuce_1.Dm[:]))/(24*4),prix.iloc[0:((nb_jour*24*4)+1),5])\n",
    "    plt.xlabel('Temps (jours)')\n",
    "    plt.ylabel('Prix électricité (c€)')\n",
    "    plt.title (\"Evolution du prix de l'électricité\")\n",
    "    plt.show()\n",
    "\n",
    "elif type_simulation =='effet heure de debut':\n",
    "    plt.plot(np.arange(24),Cout)\n",
    "    plt.xlabel('Heure de début')\n",
    "    plt.ylabel('Prix (€)')\n",
    "    plt.title (\"Prix des laitues en fonction de l'heure de début d'éclairage\")\n",
    "    plt.show()\n",
    "    plt.plot(np.arange(24),Fm)\n",
    "    plt.xlabel('Heure de début')\n",
    "    plt.ylabel('Masse des laitues (kg)')\n",
    "    plt.title (\"Masse des laitues en fonction de l'heure de début d'éclairage\")\n",
    "    plt.show()\n",
    "    plt.plot(np.arange(24),Prix_kg)\n",
    "    plt.xlabel('Heure de début')\n",
    "    plt.ylabel('Prix/kg (€)')\n",
    "    plt.title (\"Prix par kg des laitues en fonction de l'heure de début d'éclairage\")\n",
    "    plt.show()\n",
    "    \n",
    "elif type_simulation =='effet température':\n",
    "    plt.plot(7+np.arange(len(Fm)),Fm)\n",
    "    plt.xlabel('Température(°C)')\n",
    "    plt.ylabel('Masse des laitues (kg)')\n",
    "    plt.title (\"Masse des laitues en fonction de la température de culture\")\n",
    "    plt.show()\n",
    "    plt.plot(7+np.arange(len(Fm)),Prix_kg)\n",
    "    plt.xlabel('Température(°C)')\n",
    "    plt.ylabel('Prix/kg (€)')\n",
    "    plt.title (\"Prix par kg des laitues en fonction de la température de culture\")\n",
    "    plt.show()\n",
    "    \n",
    "elif type_simulation =='effet photopériode':\n",
    "    plt.plot(np.arange(24),Cout)\n",
    "    plt.xlabel('Photopériode (h)')\n",
    "    plt.ylabel('Prix (€)')\n",
    "    plt.title (\"Prix des laitues en fonction de la durée de la photopériode\")\n",
    "    plt.show()\n",
    "    plt.plot(np.arange(24),Fm)\n",
    "    plt.xlabel('Photopériode (h)')\n",
    "    plt.ylabel('Masse des laitues (kg)')\n",
    "    plt.title (\"Masse des laitues en fonction de la durée de la photopériode\")\n",
    "    plt.show()\n",
    "    plt.plot(np.arange(24),Prix_kg)\n",
    "    plt.xlabel('Photopériode (h)')\n",
    "    plt.ylabel('Prix/kg (€)')\n",
    "    plt.title (\"Prix par kg des laitues en fonction de la durée de la photopériode\")\n",
    "    plt.show()"
   ]
  },
  {
   "cell_type": "code",
   "execution_count": null,
   "metadata": {},
   "outputs": [],
   "source": []
  },
  {
   "cell_type": "code",
   "execution_count": null,
   "metadata": {},
   "outputs": [],
   "source": []
  },
  {
   "cell_type": "code",
   "execution_count": null,
   "metadata": {},
   "outputs": [],
   "source": []
  }
 ],
 "metadata": {
  "kernelspec": {
   "display_name": "Python 3",
   "language": "python",
   "name": "python3"
  },
  "language_info": {
   "codemirror_mode": {
    "name": "ipython",
    "version": 3
   },
   "file_extension": ".py",
   "mimetype": "text/x-python",
   "name": "python",
   "nbconvert_exporter": "python",
   "pygments_lexer": "ipython3",
   "version": "3.7.4"
  }
 },
 "nbformat": 4,
 "nbformat_minor": 4
}
